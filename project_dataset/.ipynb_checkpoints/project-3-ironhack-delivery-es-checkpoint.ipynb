{
 "cells": [
  {
   "cell_type": "code",
   "execution_count": 1,
   "metadata": {},
   "outputs": [],
   "source": [
    "import numpy as np\n",
    "import pandas as pd\n"
   ]
  },
  {
   "cell_type": "code",
   "execution_count": 2,
   "metadata": {},
   "outputs": [
    {
     "data": {
      "text/html": [
       "<div>\n",
       "<style scoped>\n",
       "    .dataframe tbody tr th:only-of-type {\n",
       "        vertical-align: middle;\n",
       "    }\n",
       "\n",
       "    .dataframe tbody tr th {\n",
       "        vertical-align: top;\n",
       "    }\n",
       "\n",
       "    .dataframe thead th {\n",
       "        text-align: right;\n",
       "    }\n",
       "</style>\n",
       "<table border=\"1\" class=\"dataframe\">\n",
       "  <thead>\n",
       "    <tr style=\"text-align: right;\">\n",
       "      <th></th>\n",
       "      <th>order_id</th>\n",
       "      <th>activation_time_local</th>\n",
       "      <th>country_code</th>\n",
       "      <th>store_address</th>\n",
       "      <th>final_status</th>\n",
       "      <th>payment_status</th>\n",
       "      <th>products</th>\n",
       "      <th>products_total</th>\n",
       "      <th>purchase_total_price</th>\n",
       "    </tr>\n",
       "  </thead>\n",
       "  <tbody>\n",
       "    <tr>\n",
       "      <th>0</th>\n",
       "      <td>33557880</td>\n",
       "      <td>2019-03-10 23:59:59.000000</td>\n",
       "      <td>AR</td>\n",
       "      <td>14200</td>\n",
       "      <td>DeliveredStatus</td>\n",
       "      <td>PAID</td>\n",
       "      <td>1</td>\n",
       "      <td>4.54</td>\n",
       "      <td>8.64</td>\n",
       "    </tr>\n",
       "    <tr>\n",
       "      <th>1</th>\n",
       "      <td>33512615</td>\n",
       "      <td>2019-03-10 23:58:32.000000</td>\n",
       "      <td>TR</td>\n",
       "      <td>28725</td>\n",
       "      <td>DeliveredStatus</td>\n",
       "      <td>PAID</td>\n",
       "      <td>1</td>\n",
       "      <td>3.76</td>\n",
       "      <td>3.76</td>\n",
       "    </tr>\n",
       "    <tr>\n",
       "      <th>2</th>\n",
       "      <td>33512451</td>\n",
       "      <td>2019-03-10 23:57:56.000000</td>\n",
       "      <td>TR</td>\n",
       "      <td>28725</td>\n",
       "      <td>DeliveredStatus</td>\n",
       "      <td>PAID</td>\n",
       "      <td>1</td>\n",
       "      <td>2.86</td>\n",
       "      <td>2.86</td>\n",
       "    </tr>\n",
       "    <tr>\n",
       "      <th>3</th>\n",
       "      <td>33530892</td>\n",
       "      <td>2019-03-10 23:57:33.000000</td>\n",
       "      <td>ES</td>\n",
       "      <td>19777</td>\n",
       "      <td>CanceledStatus</td>\n",
       "      <td>PAID</td>\n",
       "      <td>1</td>\n",
       "      <td>12.95</td>\n",
       "      <td>0.00</td>\n",
       "    </tr>\n",
       "    <tr>\n",
       "      <th>4</th>\n",
       "      <td>33557765</td>\n",
       "      <td>2019-03-10 23:57:21.000000</td>\n",
       "      <td>AR</td>\n",
       "      <td>34565</td>\n",
       "      <td>DeliveredStatus</td>\n",
       "      <td>PAID</td>\n",
       "      <td>2</td>\n",
       "      <td>2.86</td>\n",
       "      <td>6.48</td>\n",
       "    </tr>\n",
       "  </tbody>\n",
       "</table>\n",
       "</div>"
      ],
      "text/plain": [
       "   order_id       activation_time_local country_code  store_address  \\\n",
       "0  33557880  2019-03-10 23:59:59.000000           AR          14200   \n",
       "1  33512615  2019-03-10 23:58:32.000000           TR          28725   \n",
       "2  33512451  2019-03-10 23:57:56.000000           TR          28725   \n",
       "3  33530892  2019-03-10 23:57:33.000000           ES          19777   \n",
       "4  33557765  2019-03-10 23:57:21.000000           AR          34565   \n",
       "\n",
       "      final_status payment_status  products  products_total  \\\n",
       "0  DeliveredStatus           PAID         1            4.54   \n",
       "1  DeliveredStatus           PAID         1            3.76   \n",
       "2  DeliveredStatus           PAID         1            2.86   \n",
       "3   CanceledStatus           PAID         1           12.95   \n",
       "4  DeliveredStatus           PAID         2            2.86   \n",
       "\n",
       "   purchase_total_price  \n",
       "0                  8.64  \n",
       "1                  3.76  \n",
       "2                  2.86  \n",
       "3                  0.00  \n",
       "4                  6.48  "
      ]
     },
     "execution_count": 2,
     "metadata": {},
     "output_type": "execute_result"
    }
   ],
   "source": [
    "#Importing CSV file data to panadas\n",
    "# addeding header = None, will let us add the header later since the CSV does not have any header\n",
    "\n",
    "#data = pd.read_csv('C:/Users/Khaled/Desktop/IRON HACK/project-3-ironhack-delivery-es/fake_orders_test.csv', header=None)\n",
    "data = pd.read_csv('python_raw_data/fake_orders_test.csv', header=None)\n",
    "data.head()\n",
    "\n",
    "\n",
    "#Specific the header columns names and then set the header without replacing the data\n",
    "new_header = [\"order_id\", \"activation_time_local\", \"country_code\", \"store_address\", \n",
    "    \"final_status\", \"payment_status\", \"products\", \"products_total\", \"purchase_total_price\"]\n",
    "data.columns = new_header\n",
    "\n",
    "# Verify the changes\n",
    "len(data)\n",
    "data.head()\n"
   ]
  },
  {
   "cell_type": "markdown",
   "metadata": {},
   "source": [
    "## Step 1: Calculate the percentage of under-authorized orders"
   ]
  },
  {
   "cell_type": "code",
   "execution_count": 3,
   "metadata": {},
   "outputs": [
    {
     "data": {
      "text/plain": [
       "57.58443708609271"
      ]
     },
     "execution_count": 3,
     "metadata": {},
     "output_type": "execute_result"
    }
   ],
   "source": [
    "under_authorized_orders = data[data['products_total'] < data['purchase_total_price']]\n",
    "percent_under_authorized = len(under_authorized_orders) / len(data['products_total']) * 100\n",
    "\n",
    "percent_under_authorized"
   ]
  },
  {
   "cell_type": "markdown",
   "metadata": {},
   "source": [
    "## Step 2: Percent of orders would be correctly authorized with incremental authorization (+20%) on the amount at checkout"
   ]
  },
  {
   "cell_type": "code",
   "execution_count": 4,
   "metadata": {},
   "outputs": [
    {
     "data": {
      "text/plain": [
       "69.03476821192052"
      ]
     },
     "execution_count": 4,
     "metadata": {},
     "output_type": "execute_result"
    }
   ],
   "source": [
    "incremental_authorized_orders = data[(data['products_total'] * 1.2) >= data['purchase_total_price']]\n",
    "percent_incremental_authorized_orders = len(incremental_authorized_orders) / len(data['products_total']) * 100\n",
    "percent_incremental_authorized_orders"
   ]
  },
  {
   "cell_type": "markdown",
   "metadata": {},
   "source": [
    "## Step 3: Differences when split by country"
   ]
  },
  {
   "cell_type": "code",
   "execution_count": 5,
   "metadata": {},
   "outputs": [
    {
     "data": {
      "text/plain": [
       "country_code\n",
       "AR    60.597332\n",
       "BR    50.000000\n",
       "CI    33.333333\n",
       "CL    87.047101\n",
       "CR    44.896116\n",
       "DO    63.600000\n",
       "EC    64.234450\n",
       "EG    62.910284\n",
       "ES    62.197407\n",
       "FR    65.636704\n",
       "GE    51.831502\n",
       "GT    33.156966\n",
       "IT    55.306268\n",
       "KE    56.382979\n",
       "MA    40.686275\n",
       "PA    60.809477\n",
       "PE    55.903866\n",
       "PR    42.424242\n",
       "PT    58.085809\n",
       "RO    46.423627\n",
       "TR    50.661626\n",
       "UA    48.628308\n",
       "UY    42.631579\n",
       "dtype: float64"
      ]
     },
     "execution_count": 5,
     "metadata": {},
     "output_type": "execute_result"
    }
   ],
   "source": [
    "# Calculate the percentage of under-authorized orders by country\n",
    "under_authorized_by_country = data[data['products_total'] < data['purchase_total_price']].groupby('country_code').size()\n",
    "order_per_country = data.groupby(data['country_code']).size()\n",
    "percent_under_authorized_by_country = (under_authorized_by_country / order_per_country) * 100\n",
    "\n",
    "percent_under_authorized_by_country\n"
   ]
  },
  {
   "cell_type": "markdown",
   "metadata": {},
   "source": [
    "## Step 4: Remainder of orders that would be outside of incremental authorization, what values would be necessary to capture the remaining amount"
   ]
  },
  {
   "cell_type": "code",
   "execution_count": 11,
   "metadata": {},
   "outputs": [
    {
     "name": "stdout",
     "output_type": "stream",
     "text": [
      "<class 'pandas.core.frame.DataFrame'>\n",
      "RangeIndex: 60400 entries, 0 to 60399\n",
      "Data columns (total 9 columns):\n",
      " #   Column                 Non-Null Count  Dtype  \n",
      "---  ------                 --------------  -----  \n",
      " 0   order_id               60400 non-null  int64  \n",
      " 1   activation_time_local  60400 non-null  object \n",
      " 2   country_code           60400 non-null  object \n",
      " 3   store_address          60400 non-null  int64  \n",
      " 4   final_status           60400 non-null  object \n",
      " 5   payment_status         60400 non-null  object \n",
      " 6   products               60400 non-null  int64  \n",
      " 7   products_total         60400 non-null  float64\n",
      " 8   purchase_total_price   60400 non-null  float64\n",
      "dtypes: float64(2), int64(3), object(4)\n",
      "memory usage: 4.1+ MB\n"
     ]
    }
   ],
   "source": [
    "data.info()"
   ]
  },
  {
   "cell_type": "code",
   "execution_count": 28,
   "metadata": {},
   "outputs": [
    {
     "data": {
      "text/html": [
       "<div>\n",
       "<style scoped>\n",
       "    .dataframe tbody tr th:only-of-type {\n",
       "        vertical-align: middle;\n",
       "    }\n",
       "\n",
       "    .dataframe tbody tr th {\n",
       "        vertical-align: top;\n",
       "    }\n",
       "\n",
       "    .dataframe thead th {\n",
       "        text-align: right;\n",
       "    }\n",
       "</style>\n",
       "<table border=\"1\" class=\"dataframe\">\n",
       "  <thead>\n",
       "    <tr style=\"text-align: right;\">\n",
       "      <th></th>\n",
       "      <th>order_id</th>\n",
       "      <th>products_total</th>\n",
       "      <th>purchase_total_price</th>\n",
       "      <th>extra_percentage_needed</th>\n",
       "    </tr>\n",
       "  </thead>\n",
       "  <tbody>\n",
       "    <tr>\n",
       "      <th>0</th>\n",
       "      <td>33557880</td>\n",
       "      <td>4.54</td>\n",
       "      <td>8.64</td>\n",
       "      <td>70.308370</td>\n",
       "    </tr>\n",
       "    <tr>\n",
       "      <th>4</th>\n",
       "      <td>33557765</td>\n",
       "      <td>2.86</td>\n",
       "      <td>6.48</td>\n",
       "      <td>106.573427</td>\n",
       "    </tr>\n",
       "    <tr>\n",
       "      <th>10</th>\n",
       "      <td>33523444</td>\n",
       "      <td>2.05</td>\n",
       "      <td>10.17</td>\n",
       "      <td>376.097561</td>\n",
       "    </tr>\n",
       "    <tr>\n",
       "      <th>12</th>\n",
       "      <td>33530379</td>\n",
       "      <td>8.10</td>\n",
       "      <td>10.20</td>\n",
       "      <td>5.925926</td>\n",
       "    </tr>\n",
       "    <tr>\n",
       "      <th>20</th>\n",
       "      <td>33509944</td>\n",
       "      <td>4.42</td>\n",
       "      <td>5.73</td>\n",
       "      <td>9.638009</td>\n",
       "    </tr>\n",
       "    <tr>\n",
       "      <th>...</th>\n",
       "      <td>...</td>\n",
       "      <td>...</td>\n",
       "      <td>...</td>\n",
       "      <td>...</td>\n",
       "    </tr>\n",
       "    <tr>\n",
       "      <th>60371</th>\n",
       "      <td>32004484</td>\n",
       "      <td>9.83</td>\n",
       "      <td>21.44</td>\n",
       "      <td>98.107833</td>\n",
       "    </tr>\n",
       "    <tr>\n",
       "      <th>60373</th>\n",
       "      <td>31969645</td>\n",
       "      <td>3.28</td>\n",
       "      <td>6.56</td>\n",
       "      <td>80.000000</td>\n",
       "    </tr>\n",
       "    <tr>\n",
       "      <th>60374</th>\n",
       "      <td>31968802</td>\n",
       "      <td>2.46</td>\n",
       "      <td>5.25</td>\n",
       "      <td>93.414634</td>\n",
       "    </tr>\n",
       "    <tr>\n",
       "      <th>60380</th>\n",
       "      <td>31965637</td>\n",
       "      <td>3.44</td>\n",
       "      <td>6.89</td>\n",
       "      <td>80.290698</td>\n",
       "    </tr>\n",
       "    <tr>\n",
       "      <th>60389</th>\n",
       "      <td>32002620</td>\n",
       "      <td>1.79</td>\n",
       "      <td>5.36</td>\n",
       "      <td>179.441341</td>\n",
       "    </tr>\n",
       "  </tbody>\n",
       "</table>\n",
       "<p>18703 rows × 4 columns</p>\n",
       "</div>"
      ],
      "text/plain": [
       "       order_id  products_total  purchase_total_price  extra_percentage_needed\n",
       "0      33557880            4.54                  8.64                70.308370\n",
       "4      33557765            2.86                  6.48               106.573427\n",
       "10     33523444            2.05                 10.17               376.097561\n",
       "12     33530379            8.10                 10.20                 5.925926\n",
       "20     33509944            4.42                  5.73                 9.638009\n",
       "...         ...             ...                   ...                      ...\n",
       "60371  32004484            9.83                 21.44                98.107833\n",
       "60373  31969645            3.28                  6.56                80.000000\n",
       "60374  31968802            2.46                  5.25                93.414634\n",
       "60380  31965637            3.44                  6.89                80.290698\n",
       "60389  32002620            1.79                  5.36               179.441341\n",
       "\n",
       "[18703 rows x 4 columns]"
      ]
     },
     "execution_count": 28,
     "metadata": {},
     "output_type": "execute_result"
    }
   ],
   "source": [
    "outside_incremental_authorized = data[(data['products_total'] * 1.2) < data['purchase_total_price']].copy()\n",
    "outside_incremental_authorized['extra_percentage_needed'] = (outside_incremental_authorized['purchase_total_price'] - outside_incremental_authorized['products_total'] * 1.2) / (outside_incremental_authorized['products_total']) * 100\n",
    "outside_incremental_authorized[['order_id', 'products_total', 'purchase_total_price', 'extra_percentage_needed']]"
   ]
  },
  {
   "cell_type": "code",
   "execution_count": 9,
   "metadata": {},
   "outputs": [
    {
     "name": "stdout",
     "output_type": "stream",
     "text": [
      "<class 'pandas.core.series.Series'>\n",
      "Index: 18703 entries, 0 to 60389\n",
      "Series name: extra_percentage_needed\n",
      "Non-Null Count  Dtype  \n",
      "--------------  -----  \n",
      "18703 non-null  float64\n",
      "dtypes: float64(1)\n",
      "memory usage: 292.2 KB\n"
     ]
    }
   ],
   "source": [
    "outside_incremental_authorized['extra_percentage_needed'].info()"
   ]
  },
  {
   "cell_type": "code",
   "execution_count": 10,
   "metadata": {},
   "outputs": [
    {
     "name": "stderr",
     "output_type": "stream",
     "text": [
      "/home/moises/.virtualenvs/dataanalyst/lib/python3.12/site-packages/pandas/core/nanops.py:1016: RuntimeWarning: invalid value encountered in subtract\n",
      "  sqr = _ensure_numeric((avg - values) ** 2)\n"
     ]
    },
    {
     "data": {
      "text/html": [
       "<div>\n",
       "<style scoped>\n",
       "    .dataframe tbody tr th:only-of-type {\n",
       "        vertical-align: middle;\n",
       "    }\n",
       "\n",
       "    .dataframe tbody tr th {\n",
       "        vertical-align: top;\n",
       "    }\n",
       "\n",
       "    .dataframe thead th {\n",
       "        text-align: right;\n",
       "    }\n",
       "</style>\n",
       "<table border=\"1\" class=\"dataframe\">\n",
       "  <thead>\n",
       "    <tr style=\"text-align: right;\">\n",
       "      <th></th>\n",
       "      <th>order_id</th>\n",
       "      <th>store_address</th>\n",
       "      <th>products</th>\n",
       "      <th>products_total</th>\n",
       "      <th>purchase_total_price</th>\n",
       "      <th>extra_percentage_needed</th>\n",
       "    </tr>\n",
       "  </thead>\n",
       "  <tbody>\n",
       "    <tr>\n",
       "      <th>count</th>\n",
       "      <td>1.870300e+04</td>\n",
       "      <td>18703.000000</td>\n",
       "      <td>18703.000000</td>\n",
       "      <td>18703.000000</td>\n",
       "      <td>18703.000000</td>\n",
       "      <td>1.870300e+04</td>\n",
       "    </tr>\n",
       "    <tr>\n",
       "      <th>mean</th>\n",
       "      <td>3.278163e+07</td>\n",
       "      <td>41075.577715</td>\n",
       "      <td>2.883869</td>\n",
       "      <td>7.039918</td>\n",
       "      <td>13.187707</td>\n",
       "      <td>inf</td>\n",
       "    </tr>\n",
       "    <tr>\n",
       "      <th>std</th>\n",
       "      <td>4.466078e+05</td>\n",
       "      <td>22438.179761</td>\n",
       "      <td>2.308704</td>\n",
       "      <td>7.094022</td>\n",
       "      <td>12.596314</td>\n",
       "      <td>NaN</td>\n",
       "    </tr>\n",
       "    <tr>\n",
       "      <th>min</th>\n",
       "      <td>3.150378e+07</td>\n",
       "      <td>190.000000</td>\n",
       "      <td>1.000000</td>\n",
       "      <td>0.000000</td>\n",
       "      <td>0.090000</td>\n",
       "      <td>1.340647e-14</td>\n",
       "    </tr>\n",
       "    <tr>\n",
       "      <th>25%</th>\n",
       "      <td>3.239596e+07</td>\n",
       "      <td>18152.000000</td>\n",
       "      <td>1.000000</td>\n",
       "      <td>2.570000</td>\n",
       "      <td>5.730000</td>\n",
       "      <td>1.657328e+01</td>\n",
       "    </tr>\n",
       "    <tr>\n",
       "      <th>50%</th>\n",
       "      <td>3.278623e+07</td>\n",
       "      <td>45124.000000</td>\n",
       "      <td>2.000000</td>\n",
       "      <td>5.030000</td>\n",
       "      <td>9.940000</td>\n",
       "      <td>5.135135e+01</td>\n",
       "    </tr>\n",
       "    <tr>\n",
       "      <th>75%</th>\n",
       "      <td>3.318670e+07</td>\n",
       "      <td>61975.000000</td>\n",
       "      <td>4.000000</td>\n",
       "      <td>9.240000</td>\n",
       "      <td>16.490000</td>\n",
       "      <td>1.131299e+02</td>\n",
       "    </tr>\n",
       "    <tr>\n",
       "      <th>max</th>\n",
       "      <td>3.356003e+07</td>\n",
       "      <td>74889.000000</td>\n",
       "      <td>20.000000</td>\n",
       "      <td>134.200000</td>\n",
       "      <td>265.760000</td>\n",
       "      <td>inf</td>\n",
       "    </tr>\n",
       "  </tbody>\n",
       "</table>\n",
       "</div>"
      ],
      "text/plain": [
       "           order_id  store_address      products  products_total  \\\n",
       "count  1.870300e+04   18703.000000  18703.000000    18703.000000   \n",
       "mean   3.278163e+07   41075.577715      2.883869        7.039918   \n",
       "std    4.466078e+05   22438.179761      2.308704        7.094022   \n",
       "min    3.150378e+07     190.000000      1.000000        0.000000   \n",
       "25%    3.239596e+07   18152.000000      1.000000        2.570000   \n",
       "50%    3.278623e+07   45124.000000      2.000000        5.030000   \n",
       "75%    3.318670e+07   61975.000000      4.000000        9.240000   \n",
       "max    3.356003e+07   74889.000000     20.000000      134.200000   \n",
       "\n",
       "       purchase_total_price  extra_percentage_needed  \n",
       "count          18703.000000             1.870300e+04  \n",
       "mean              13.187707                      inf  \n",
       "std               12.596314                      NaN  \n",
       "min                0.090000             1.340647e-14  \n",
       "25%                5.730000             1.657328e+01  \n",
       "50%                9.940000             5.135135e+01  \n",
       "75%               16.490000             1.131299e+02  \n",
       "max              265.760000                      inf  "
      ]
     },
     "execution_count": 10,
     "metadata": {},
     "output_type": "execute_result"
    }
   ],
   "source": [
    "outside_incremental_authorized.describe()"
   ]
  },
  {
   "cell_type": "markdown",
   "metadata": {},
   "source": [
    "## Step 5: Stores are the most problematic in terms of orders and monetary value"
   ]
  },
  {
   "cell_type": "code",
   "execution_count": 33,
   "metadata": {},
   "outputs": [
    {
     "data": {
      "text/html": [
       "<div>\n",
       "<style scoped>\n",
       "    .dataframe tbody tr th:only-of-type {\n",
       "        vertical-align: middle;\n",
       "    }\n",
       "\n",
       "    .dataframe tbody tr th {\n",
       "        vertical-align: top;\n",
       "    }\n",
       "\n",
       "    .dataframe thead th {\n",
       "        text-align: right;\n",
       "    }\n",
       "</style>\n",
       "<table border=\"1\" class=\"dataframe\">\n",
       "  <thead>\n",
       "    <tr style=\"text-align: right;\">\n",
       "      <th></th>\n",
       "      <th>store_address</th>\n",
       "      <th>diff_count</th>\n",
       "      <th>diff_sum</th>\n",
       "    </tr>\n",
       "  </thead>\n",
       "  <tbody>\n",
       "    <tr>\n",
       "      <th>count</th>\n",
       "      <td>4566.00000</td>\n",
       "      <td>4566.000000</td>\n",
       "      <td>4566.000000</td>\n",
       "    </tr>\n",
       "    <tr>\n",
       "      <th>mean</th>\n",
       "      <td>45144.28756</td>\n",
       "      <td>7.617389</td>\n",
       "      <td>28.356095</td>\n",
       "    </tr>\n",
       "    <tr>\n",
       "      <th>std</th>\n",
       "      <td>22300.35111</td>\n",
       "      <td>14.360395</td>\n",
       "      <td>67.760076</td>\n",
       "    </tr>\n",
       "    <tr>\n",
       "      <th>min</th>\n",
       "      <td>190.00000</td>\n",
       "      <td>1.000000</td>\n",
       "      <td>0.010000</td>\n",
       "    </tr>\n",
       "    <tr>\n",
       "      <th>25%</th>\n",
       "      <td>28276.00000</td>\n",
       "      <td>1.000000</td>\n",
       "      <td>2.760000</td>\n",
       "    </tr>\n",
       "    <tr>\n",
       "      <th>50%</th>\n",
       "      <td>51145.50000</td>\n",
       "      <td>3.000000</td>\n",
       "      <td>9.410000</td>\n",
       "    </tr>\n",
       "    <tr>\n",
       "      <th>75%</th>\n",
       "      <td>64167.50000</td>\n",
       "      <td>8.000000</td>\n",
       "      <td>27.650000</td>\n",
       "    </tr>\n",
       "    <tr>\n",
       "      <th>max</th>\n",
       "      <td>75114.00000</td>\n",
       "      <td>448.000000</td>\n",
       "      <td>1781.130000</td>\n",
       "    </tr>\n",
       "  </tbody>\n",
       "</table>\n",
       "</div>"
      ],
      "text/plain": [
       "       store_address   diff_count     diff_sum\n",
       "count     4566.00000  4566.000000  4566.000000\n",
       "mean     45144.28756     7.617389    28.356095\n",
       "std      22300.35111    14.360395    67.760076\n",
       "min        190.00000     1.000000     0.010000\n",
       "25%      28276.00000     1.000000     2.760000\n",
       "50%      51145.50000     3.000000     9.410000\n",
       "75%      64167.50000     8.000000    27.650000\n",
       "max      75114.00000   448.000000  1781.130000"
      ]
     },
     "execution_count": 33,
     "metadata": {},
     "output_type": "execute_result"
    }
   ],
   "source": [
    "#Which stores are the most problematic in terms of orders and monetary value?\n",
    "under_authorized = data[data['products_total'] < data['purchase_total_price']].copy()\n",
    "under_authorized['diff'] = under_authorized['purchase_total_price'] - under_authorized['products_total']\n",
    "\n",
    "order_per_store = under_authorized.groupby('store_address').agg({'diff': ['count', 'sum']}).reset_index()\n",
    "order_per_store.columns = ['store_address', 'diff_count', 'diff_sum']\n",
    "order_per_store.describe()"
   ]
  },
  {
   "cell_type": "code",
   "execution_count": 31,
   "metadata": {},
   "outputs": [
    {
     "data": {
      "text/html": [
       "<div>\n",
       "<style scoped>\n",
       "    .dataframe tbody tr th:only-of-type {\n",
       "        vertical-align: middle;\n",
       "    }\n",
       "\n",
       "    .dataframe tbody tr th {\n",
       "        vertical-align: top;\n",
       "    }\n",
       "\n",
       "    .dataframe thead th {\n",
       "        text-align: right;\n",
       "    }\n",
       "</style>\n",
       "<table border=\"1\" class=\"dataframe\">\n",
       "  <thead>\n",
       "    <tr style=\"text-align: right;\">\n",
       "      <th></th>\n",
       "      <th>store_address</th>\n",
       "      <th>diff_count</th>\n",
       "      <th>diff_sum</th>\n",
       "    </tr>\n",
       "  </thead>\n",
       "  <tbody>\n",
       "    <tr>\n",
       "      <th>452</th>\n",
       "      <td>10264</td>\n",
       "      <td>59</td>\n",
       "      <td>1781.13</td>\n",
       "    </tr>\n",
       "    <tr>\n",
       "      <th>1153</th>\n",
       "      <td>28669</td>\n",
       "      <td>158</td>\n",
       "      <td>1185.70</td>\n",
       "    </tr>\n",
       "    <tr>\n",
       "      <th>3572</th>\n",
       "      <td>65896</td>\n",
       "      <td>68</td>\n",
       "      <td>1011.47</td>\n",
       "    </tr>\n",
       "    <tr>\n",
       "      <th>435</th>\n",
       "      <td>9855</td>\n",
       "      <td>31</td>\n",
       "      <td>907.03</td>\n",
       "    </tr>\n",
       "    <tr>\n",
       "      <th>659</th>\n",
       "      <td>14455</td>\n",
       "      <td>179</td>\n",
       "      <td>791.41</td>\n",
       "    </tr>\n",
       "    <tr>\n",
       "      <th>...</th>\n",
       "      <td>...</td>\n",
       "      <td>...</td>\n",
       "      <td>...</td>\n",
       "    </tr>\n",
       "    <tr>\n",
       "      <th>3839</th>\n",
       "      <td>68222</td>\n",
       "      <td>8</td>\n",
       "      <td>27.96</td>\n",
       "    </tr>\n",
       "    <tr>\n",
       "      <th>1180</th>\n",
       "      <td>28997</td>\n",
       "      <td>11</td>\n",
       "      <td>27.94</td>\n",
       "    </tr>\n",
       "    <tr>\n",
       "      <th>4129</th>\n",
       "      <td>70375</td>\n",
       "      <td>8</td>\n",
       "      <td>27.75</td>\n",
       "    </tr>\n",
       "    <tr>\n",
       "      <th>3252</th>\n",
       "      <td>62647</td>\n",
       "      <td>8</td>\n",
       "      <td>27.73</td>\n",
       "    </tr>\n",
       "    <tr>\n",
       "      <th>992</th>\n",
       "      <td>20137</td>\n",
       "      <td>13</td>\n",
       "      <td>27.65</td>\n",
       "    </tr>\n",
       "  </tbody>\n",
       "</table>\n",
       "<p>873 rows × 3 columns</p>\n",
       "</div>"
      ],
      "text/plain": [
       "      store_address  diff_count  diff_sum\n",
       "452           10264          59   1781.13\n",
       "1153          28669         158   1185.70\n",
       "3572          65896          68   1011.47\n",
       "435            9855          31    907.03\n",
       "659           14455         179    791.41\n",
       "...             ...         ...       ...\n",
       "3839          68222           8     27.96\n",
       "1180          28997          11     27.94\n",
       "4129          70375           8     27.75\n",
       "3252          62647           8     27.73\n",
       "992           20137          13     27.65\n",
       "\n",
       "[873 rows x 3 columns]"
      ]
     },
     "execution_count": 31,
     "metadata": {},
     "output_type": "execute_result"
    }
   ],
   "source": [
    "# A partir del describe() podemos ver que en el tercer quartil el count de orders es 8 o más y el sum de difencias de importes es 27.65 o más\n",
    "# Seleccionamos las tiendas que están en el quartil de uno de esos dos\n",
    "order_per_store[(order_per_store['diff_count'] >= 8) & (order_per_store['diff_sum'] >= 27.65)].sort_values(['diff_sum', 'diff_count'], ascending=False)\n"
   ]
  },
  {
   "cell_type": "markdown",
   "metadata": {},
   "source": [
    "## Step 6: correlation between the difference in the prices and the cancellation of the order? In other words: Is an order more likely to be cancelled as the price difference increases?"
   ]
  },
  {
   "cell_type": "code",
   "execution_count": 32,
   "metadata": {},
   "outputs": [
    {
     "data": {
      "text/plain": [
       "np.float64(-0.43295477312169933)"
      ]
     },
     "execution_count": 32,
     "metadata": {},
     "output_type": "execute_result"
    }
   ],
   "source": [
    "data['price_difference'] = data['purchase_total_price'] - data['products_total']\n",
    "data['is_canceled'] = data['final_status'] == 'CanceledStatus'\n",
    "\n",
    "correlation = data[['price_difference', 'is_canceled']].corr().loc['price_difference', 'is_canceled']\n",
    "\n",
    "correlation\n",
    "# there is a **moderate** correlation between the price differnce and the cancellation of the order"
   ]
  }
 ],
 "metadata": {
  "kernelspec": {
   "display_name": "Python 3 (ipykernel)",
   "language": "python",
   "name": "python3"
  },
  "language_info": {
   "codemirror_mode": {
    "name": "ipython",
    "version": 3
   },
   "file_extension": ".py",
   "mimetype": "text/x-python",
   "name": "python",
   "nbconvert_exporter": "python",
   "pygments_lexer": "ipython3",
   "version": "3.12.5"
  },
  "toc": {
   "base_numbering": 1,
   "nav_menu": {},
   "number_sections": false,
   "sideBar": true,
   "skip_h1_title": false,
   "title_cell": "Table of Contents",
   "title_sidebar": "Contents",
   "toc_cell": false,
   "toc_position": {
    "height": "calc(100% - 180px)",
    "left": "10px",
    "top": "150px",
    "width": "296.475px"
   },
   "toc_section_display": true,
   "toc_window_display": false
  },
  "varInspector": {
   "cols": {
    "lenName": 16,
    "lenType": 16,
    "lenVar": 40
   },
   "kernels_config": {
    "python": {
     "delete_cmd_postfix": "",
     "delete_cmd_prefix": "del ",
     "library": "var_list.py",
     "varRefreshCmd": "print(var_dic_list())"
    },
    "r": {
     "delete_cmd_postfix": ") ",
     "delete_cmd_prefix": "rm(",
     "library": "var_list.r",
     "varRefreshCmd": "cat(var_dic_list()) "
    }
   },
   "types_to_exclude": [
    "module",
    "function",
    "builtin_function_or_method",
    "instance",
    "_Feature"
   ],
   "window_display": false
  }
 },
 "nbformat": 4,
 "nbformat_minor": 4
}
