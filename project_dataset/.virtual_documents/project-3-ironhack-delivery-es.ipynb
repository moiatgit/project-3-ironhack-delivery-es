




















import numpy as np
import pandas as pd



#Importing CSV file data to panadas
# addeding header = None, will let us add the header later since the CSV does not have any header

#data = pd.read_csv('C:/Users/Khaled/Desktop/IRON HACK/project-3-ironhack-delivery-es/fake_orders_test.csv', header=None)
data = pd.read_csv('python_raw_data/fake_orders_test.csv', header=None)
data.head()


#Specific the header columns names and then set the header without replacing the data
new_header = ["order_id", "activation_time_local", "country_code", "store_address", 
    "final_status", "payment_status", "products", "products_total", "purchase_total_price"]
data.columns = new_header

# Verify the changes
len(data)
data.head()






under_authorized_orders = data[data['products_total'] < data['purchase_total_price']]
percent_under_authorized = len(under_authorized_orders) / len(data['products_total']) * 100

percent_under_authorized





incremental_authorized_orders = data[(data['products_total'] * 1.2) >= data['purchase_total_price']]
percent_incremental_authorized_orders = len(incremental_authorized_orders) / len(data['products_total']) * 100
percent_incremental_authorized_orders





# Calculate the percentage of under-authorized orders by country
under_authorized_by_country = data[data['products_total'] < data['purchase_total_price']].groupby('country_code').size()
order_per_country = data.groupby(data['country_code']).size()
percent_under_authorized_by_country = (under_authorized_by_country / order_per_country) * 100

percent_under_authorized_by_country






data.info()


outside_incremental_authorized = data[(data['products_total'] * 1.2) < data['purchase_total_price']].copy()
outside_incremental_authorized['extra_percentage_needed'] = (outside_incremental_authorized['purchase_total_price'] - outside_incremental_authorized['products_total'] * 1.2) / (outside_incremental_authorized['products_total']) * 100
outside_incremental_authorized[['order_id', 'products_total', 'purchase_total_price', 'extra_percentage_needed']]


outside_incremental_authorized['extra_percentage_needed'].info()


outside_incremental_authorized.describe()





#Which stores are the most problematic in terms of orders and monetary value?
under_authorized = data[data['products_total'] < data['purchase_total_price']].copy()
under_authorized['diff'] = under_authorized['purchase_total_price'] - under_authorized['products_total']

order_per_store = under_authorized.groupby('store_address').agg({'diff': ['count', 'sum']}).reset_index()
order_per_store.columns = ['store_address', 'diff_count', 'diff_sum']
order_per_store.describe()


# A partir del describe() podemos ver que en el tercer quartil el count de orders es 8 o más y el sum de difencias de importes es 27.65 o más
# Seleccionamos las tiendas que están en el quartil de uno de esos dos
order_per_store[(order_per_store['diff_count'] >= 8) & (order_per_store['diff_sum'] >= 27.65)].sort_values(['diff_sum', 'diff_count'], ascending=False)






data['price_difference'] = data['purchase_total_price'] - data['products_total']
data['is_canceled'] = data['final_status'] == 'CanceledStatus'

correlation = data[['price_difference', 'is_canceled']].corr().loc['price_difference', 'is_canceled']

correlation
# there is a **moderate** correlation between the price differnce and the cancellation of the order
